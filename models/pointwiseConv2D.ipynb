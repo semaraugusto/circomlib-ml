{
 "cells": [
  {
   "cell_type": "code",
   "execution_count": 1,
   "id": "2b70084b-44da-4142-9e24-c9c8231828db",
   "metadata": {},
   "outputs": [],
   "source": [
    "import torch\n",
    "import torch.nn as nn\n",
    "import torch.nn.functional as F\n",
    "import numpy as np\n",
    "import json"
   ]
  },
  {
   "cell_type": "code",
   "execution_count": 2,
   "id": "e7533193-266d-4a59-b9aa-54179d40aa41",
   "metadata": {},
   "outputs": [],
   "source": [
    "class SeparableConv2D(nn.Module):\n",
    "    '''Separable convolution'''\n",
    "    def __init__(self, in_channels, out_channels, stride=1):\n",
    "        super(SeparableConv2D, self).__init__()\n",
    "        self.dw_conv = nn.Sequential(\n",
    "            nn.Conv2d(in_channels, in_channels, kernel_size=3, stride=stride, padding=1, groups=in_channels, bias=False),\n",
    "            nn.BatchNorm2d(in_channels),\n",
    "            nn.ReLU(inplace=False),\n",
    "        )\n",
    "        self.pw_conv = nn.Sequential(\n",
    "            nn.Conv2d(in_channels, out_channels, kernel_size=1, stride=1, padding=0, bias=False),\n",
    "            nn.BatchNorm2d(out_channels),\n",
    "            nn.ReLU(inplace=False),\n",
    "        )\n",
    "\n",
    "    def forward(self, x):\n",
    "        x = self.dw_conv(x)\n",
    "        x = self.pw_conv(x)\n",
    "        return x"
   ]
  },
  {
   "cell_type": "code",
   "execution_count": 4,
   "id": "4dec98ed-cd14-442b-93b5-8f3660726773",
   "metadata": {},
   "outputs": [],
   "source": [
    "input = torch.randn((1, 8, 32, 32))\n",
    "# print(input)\n",
    "\n",
    "model = SeparableConv2D(8, 8)\n",
    "expected = model(input)"
   ]
  },
  {
   "cell_type": "code",
   "execution_count": 15,
   "id": "92b62f7c-5ac1-4c69-9add-9a859d66c327",
   "metadata": {},
   "outputs": [
    {
     "name": "stdout",
     "output_type": "stream",
     "text": [
      "weights.shape=(8, 8, 1, 1)\n"
     ]
    }
   ],
   "source": [
    "def PointwiseConv2d(nRows, nCols, nChannels, nFilters, strides, input, weights, bias):\n",
    "    kernelSize = 1\n",
    "    outRows = (nRows - kernelSize)//strides + 1\n",
    "    outCols = (nCols - kernelSize)//strides + 1\n",
    "    out = np.zeros((outRows, outCols, nFilters))\n",
    "    for filter in range(nFilters):\n",
    "        for row in range(outRows):\n",
    "            for col in range(outCols):\n",
    "                for k in range(nChannels):\n",
    "                    out[row, col, filter] += input[row*strides, col*strides, k] * weights[k, filter]\n",
    "                            \n",
    "    return out\n",
    "\n",
    "weights = model.pw_conv[0].weight.detach().numpy()\n",
    "print(f\"{weights.shape=}\")\n",
    "bias = torch.zeros(weights.shape[0]).numpy()\n",
    "input = torch.randn((1, 8, 32, 32))\n",
    "\n",
    "expected = model.pw_conv[0](input).detach().numpy()\n",
    "\n",
    "# # Converting to H x W x C\n",
    "# padded = F.pad(input, (1,1,1,1), \"constant\", 0)\n",
    "padded = input.squeeze().numpy().transpose((1, 2, 0))\n",
    "weights = weights.transpose((2, 3, 1, 0)).squeeze()\n",
    "\n",
    "actual = PointwiseConv2d(32, 32, 8, 8, 1, padded, weights, bias)\n",
    "\n",
    "expected = expected.squeeze().transpose((1, 2, 0))\n",
    "\n",
    "assert(np.allclose(expected, actual, atol=0.00001))"
   ]
  }
 ],
 "metadata": {
  "kernelspec": {
   "display_name": "Python 3 (ipykernel)",
   "language": "python",
   "name": "python3"
  },
  "language_info": {
   "codemirror_mode": {
    "name": "ipython",
    "version": 3
   },
   "file_extension": ".py",
   "mimetype": "text/x-python",
   "name": "python",
   "nbconvert_exporter": "python",
   "pygments_lexer": "ipython3",
   "version": "3.11.5"
  }
 },
 "nbformat": 4,
 "nbformat_minor": 5
}
